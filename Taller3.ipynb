{
  "nbformat": 4,
  "nbformat_minor": 0,
  "metadata": {
    "colab": {
      "provenance": [],
      "authorship_tag": "ABX9TyM61s9mS830mfCh6b9PVUNm",
      "include_colab_link": true
    },
    "kernelspec": {
      "name": "python3",
      "display_name": "Python 3"
    },
    "language_info": {
      "name": "python"
    }
  },
  "cells": [
    {
      "cell_type": "markdown",
      "metadata": {
        "id": "view-in-github",
        "colab_type": "text"
      },
      "source": [
        "<a href=\"https://colab.research.google.com/github/juliann2305/Taller3_JuliYRosi1/blob/main/Taller3.ipynb\" target=\"_parent\"><img src=\"https://colab.research.google.com/assets/colab-badge.svg\" alt=\"Open In Colab\"/></a>"
      ]
    },
    {
      "cell_type": "code",
      "execution_count": null,
      "metadata": {
        "id": "NTVekNHjObSV"
      },
      "outputs": [],
      "source": [
        "# Taller_3_JulianaNuñez_RosauraRamos"
      ]
    },
    {
      "cell_type": "markdown",
      "source": [
        "Ejercicio 1. Generador de Discurso Politico\n",
        "\n",
        "Algortimo\n",
        "\n",
        "1. Iniciar\n",
        "2. Hacer una lista llamada discurso\n",
        "3. La lista va contener listas en su interior llamadas titulo, publico objetivo, condicion, compromiso, ilusion de lucha, promesa, beneficio populista, cantidad de votos.\n",
        "4. Mostrar discurso\n",
        "5. Finalizar\n",
        "\n",
        "Pseudocodigo\n",
        "//Program Generador_Discurso_politico\n",
        "//Programa Generador de discurso politico\n",
        "Start\n",
        "\n",
        "Declare string list\n",
        "\n",
        "Declare string discuro\n",
        "\n",
        "Declare string list titulo = [\"Queridos\", \"Apreciado\", \"Distinguidos\", \"Distinguidos\", \"Honorables\", \"Estimados\", \"Respetados\"]\n",
        "\n",
        "Declare string list publico_objetivo = [\"compatriotas\", \"copartidarios\", \"amigos\", \"coterráneos\", \"conciudadanos\", \"electores\"]\n",
        "\n",
        "Declare string list condicion = [\"en mi gobierno\", \"con su apoyo\", \"siendo elegido\", \"con su ayuda\", \"si me siguen\", \"durante mi mandato\"]\n",
        "\n",
        "Declare string list compromiso = [\"voy a derrotar\", \"vencere\", \"eliminare\", \"acabare\", \"luchare contra\", \"combatire\"]\n",
        "\n",
        "Declare string list ilusion_de_lucha = [\"la violencia y\", \"la delincuencia y\", \"la corrupcion y\", \"la inflacion y\", \"la pobreza y\", \"el desplazamiento y\"]\n",
        "\n",
        "Declare string list promesa = [\"trabajare por\", \"garantizare\", \"protegere\", \"velare por\", \"promovere\", \"defendere\"]\n",
        "\n",
        "Declare string list beneficio_populista = [\"la educacion\", \"el empleo\", \"la seguridad\", \"la paz\", \"la igualdad\", \"la salud\"]\n",
        "\n",
        "Declare string list cantidad_de_votos = [\"del pais\", \"de la cuidad\", \"de la comunidad\", \"de la población\", \"para toda la gente\", \"de cada colombiano\"]\n",
        "\n",
        "Set titulo = escoger titulo aleatoriamente\n",
        "\n",
        "Set publico_objetivo = escoger publico_objetivo aleatoriamente\n",
        "\n",
        "Set condicion = escoger condicion aleatoriamente\n",
        "\n",
        "Set compromiso = escoger compromiso aleatoriamente\n",
        "\n",
        "Set ilusion_de_lucha = escoger ilucion_de_lucha aleatoriamente\n",
        "\n",
        "Set promesa = esocger promesa aleatoriamente\n",
        "\n",
        "Set beneficio_populista = escoger beneficio_populista aleatoriamente\n",
        "\n",
        "Set cantidad_de_votos = escoger cantidad_de_votos aleatoriamente\n",
        "\n",
        "Set discurso = titulo + \"\", publico_objetivo + \"\", condicion + \"\", compromiso + \"\", ilusion_de_lucha + \"\", promesa + \"\", beneficio_populista + \"\", cantidad_de_votos + \"\"\n",
        "\n",
        "Mostrar discurso generado\n",
        "\n",
        "Display discurso\n",
        "\n",
        "End\n",
        "\n"
      ],
      "metadata": {
        "id": "BdgC0DABQcNr"
      }
    },
    {
      "cell_type": "code",
      "source": [
        "import random\n",
        "\n",
        "titulo = [\"Queridos\", \"Apreciado\", \"Distinguidos\", \"Distinguidos\", \"Honorables\", \"Estimados\", \"Respetados\"]\n",
        "publico_objetivo = [\"compatriotas\", \"copartidarios\", \"amigos\", \"coterráneos\", \"conciudadanos\", \"electores\"]\n",
        "condicion = [\"en mi gobierno\", \"con su apoyo\", \"siendo elegido\", \"con su ayuda\", \"si me siguen\", \"durante mi mandato\"]\n",
        "compromiso = [\"voy a derrotar\", \"vencere\", \"eliminare\", \"acabare\", \"luchare contra\", \"combatire\"]\n",
        "ilusion_de_lucha = [\"la violencia y\", \"la delincuencia y\", \"la corrupcion y\", \"la inflacion y\", \"la pobreza y\", \"el desplazamiento y\"]\n",
        "promesa = [\"trabajare por\", \"garantizare\", \"protegere\", \"velare por\", \"promovere\", \"defendere\"]\n",
        "beneficio_populista = [\"la educacion\", \"el empleo\", \"la seguridad\", \"la paz\", \"la igualdad\", \"la salud\"]\n",
        "cantidad_de_votos = [\"del pais\", \"de la cuidad\", \"de la comunidad\", \"de la población\", \"para toda la gente\", \"de cada colombiano\"]\n",
        "\n",
        "elementos = [titulo, publico_objetivo, condicion, compromiso, ilusion_de_lucha, promesa, beneficio_populista, cantidad_de_votos]\n",
        "discurso = \"\"\n",
        "for i in range(1):\n",
        "  for elemento in elementos:\n",
        "     discurso += random.choice(elemento) + \" \"\n",
        "  discurso += \"\\n\"\n",
        "print(discurso)"
      ],
      "metadata": {
        "colab": {
          "base_uri": "https://localhost:8080/"
        },
        "id": "RVyn4PbJQv2T",
        "outputId": "97fcaf71-a310-4db9-8a6e-4875c7ddb61b"
      },
      "execution_count": 6,
      "outputs": [
        {
          "output_type": "stream",
          "name": "stdout",
          "text": [
            "Queridos conciudadanos en mi gobierno voy a derrotar la inflacion y defendere la salud de la población \n",
            "\n"
          ]
        }
      ]
    },
    {
      "cell_type": "markdown",
      "source": [
        "Ejercicio 3. Juego de Cara o Sello\n",
        "\n",
        "Algortimo\n",
        "1. Iniciar\n",
        "2. Definir puntos\n",
        "3. Definir vidas\n",
        "4. Si las vidas > 0 entonces se producirá un valor entre \"cara\" y \"sello\"\n",
        "5. Solicitar al usuario que ingrese \"cara\" o \"sello\"\n",
        "6. Si el usuario acertó mostrar \"acertaste\" e incrementar puntos acumulados\n",
        "7. Si el usuario falla en su elección mostrar \"fallaste\" y descontar vidas\n",
        "8. Si las vidas = 0 el juego finaliza\n",
        "9. Solicitar al usuario si desea jugar de nuevo, si su respuesta es \"y\" reiniciar el juego, si la respuesta es \"n\" el juego termina.\n",
        "10. Mstrar juego\n",
        "11. Fin\n",
        "\n"
      ],
      "metadata": {
        "id": "kz3d6AtKWcDV"
      }
    },
    {
      "cell_type": "code",
      "source": [
        "Pseudocodigo\n",
        "//Program JuegoCaraOSello\n",
        "\n",
        "// Programa para jugar cara o sello\n",
        "start\n",
        "Declare int puntos\n",
        "Declare int vidas\n",
        "Declare string numero\n",
        "Declare string computer\n",
        "Declare string user_choice\n",
        "\n",
        "Display \"Ingrese un numero del 1 al 2\"\n",
        "input numero\n",
        "\n",
        "if computer == user_choice:\n",
        "  Display \"Acertaste\"\n",
        "  Display \"Puntos acumulados\"\n",
        "else:\n",
        "  Display \"Fallaste\"\n",
        "  Display \"Vidas restantes\"\n",
        "\n",
        "  if vidas == 0:\n",
        "    Display \"Juego terminado\"\n",
        "    Display \"¿Desea jugar de nuevo?\"\n",
        "    if user_choice != \"y\":\n",
        "      Display \"Gracias por jugar\"\n",
        "End"
      ],
      "metadata": {
        "id": "1aeRE8-4ezCq"
      },
      "execution_count": null,
      "outputs": []
    },
    {
      "cell_type": "code",
      "source": [
        "from random import choice\n",
        "\n",
        "points = 0\n",
        "lifes = 3\n",
        "\n",
        "while True:\n",
        "  print(\"¿Cara o Sello?\")\n",
        "  print(\"1.Cara\")\n",
        "  print(\"2.Sello\")\n",
        "  computer = choice([1, 2])\n",
        "  # user_choice = int(input(\"Ingrese un número del 1 al 2: \"))\n",
        "  user_choice = int(input(\"Ingrese un número del 1 al 2: \"))\n",
        "  if computer == user_choice:\n",
        "    print(\"Acertaste\")\n",
        "    points += 1\n",
        "    print(f\"Puntos acumulados: {points}\\n\")\n",
        "  else:\n",
        "    print(\"Fallaste\")\n",
        "    lifes -= 1\n",
        "    print(f\"Vidas restantes: {lifes}\\n\")\n",
        "  if lifes == 0:\n",
        "    print(\"Juego terminado\")\n",
        "    user_choice = input(\"¿Desea jugar de nuevo? (y/n): \")\n",
        "    if user_choice != \"y\":\n",
        "      print(\"Gracias por jugar\")\n",
        "    break\n"
      ],
      "metadata": {
        "colab": {
          "base_uri": "https://localhost:8080/"
        },
        "id": "zrvFA0zOV0OX",
        "outputId": "e306c026-cdf9-4594-ed45-75098996bf51"
      },
      "execution_count": null,
      "outputs": [
        {
          "output_type": "stream",
          "name": "stdout",
          "text": [
            "¿Cara o Sello?\n",
            "1.Cara\n",
            "2.Sello\n",
            "Ingrese un número del 1 al 2: 2\n",
            "Fallaste\n",
            "Vidas restantes: 2\n",
            "\n",
            "¿Cara o Sello?\n",
            "1.Cara\n",
            "2.Sello\n"
          ]
        }
      ]
    },
    {
      "cell_type": "code",
      "source": [],
      "metadata": {
        "id": "jsFQ8leFZ3yt"
      },
      "execution_count": null,
      "outputs": []
    }
  ]
}